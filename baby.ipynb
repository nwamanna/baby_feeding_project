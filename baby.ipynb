{
 "cells": [
  {
   "cell_type": "code",
   "execution_count": 5,
   "metadata": {},
   "outputs": [
    {
     "data": {
      "text/plain": [
       "415"
      ]
     },
     "execution_count": 5,
     "metadata": {},
     "output_type": "execute_result"
    }
   ],
   "source": [
    "def add_int(a,b):\n",
    "    i = a+b\n",
    "    return i\n",
    "add_int(345,70)"
   ]
  },
  {
   "cell_type": "code",
   "execution_count": null,
   "metadata": {},
   "outputs": [],
   "source": []
  },
  {
   "cell_type": "markdown",
   "metadata": {},
   "source": [
    "def change_case(string):\n",
    "    x = string.upper()\n",
    "    return x\n",
    "\n",
    "print(change_case(amazing))"
   ]
  },
  {
   "cell_type": "markdown",
   "metadata": {},
   "source": []
  },
  {
   "cell_type": "code",
   "execution_count": 8,
   "metadata": {},
   "outputs": [],
   "source": [
    "def intersect(arrA: list, arrB: list) -> list:\n",
    "    List = []\n",
    "    for i in arrA:\n",
    "        if i in arrB:\n",
    "            List += i\n",
    "    print(List)"
   ]
  },
  {
   "cell_type": "code",
   "execution_count": 9,
   "metadata": {},
   "outputs": [
    {
     "name": "stdout",
     "output_type": "stream",
     "text": [
      "['b', 'c']\n"
     ]
    }
   ],
   "source": [
    "intersect(['a', 'b', 'c'], ['d', 'b', 'r', 'c']) # -> ['b', c]"
   ]
  },
  {
   "cell_type": "code",
   "execution_count": null,
   "metadata": {},
   "outputs": [],
   "source": [
    "remove_duplicates([1, 2, 3, 1, 7, 1]) # [1, 2, 3, 7]\n"
   ]
  },
  {
   "cell_type": "code",
   "execution_count": 18,
   "metadata": {},
   "outputs": [
    {
     "name": "stdout",
     "output_type": "stream",
     "text": [
      "2\n",
      "3\n",
      "4\n",
      "5\n",
      "767\n"
     ]
    }
   ],
   "source": [
    "myset = set([1, 1, 2, 3, 4, 5])\n",
    "# CRUD with set\n",
    "myset.add(6)\n",
    "myset.add(767)\n",
    "myset.discard(1)\n",
    "myset.discard(6)\n",
    "\n",
    "# check for membership, traverse set\n",
    "3 in myset\n",
    "for i in myset:\n",
    "    print(i)\n"
   ]
  },
  {
   "cell_type": "code",
   "execution_count": 21,
   "metadata": {},
   "outputs": [
    {
     "data": {
      "text/plain": [
       "{6}"
      ]
     },
     "execution_count": 21,
     "metadata": {},
     "output_type": "execute_result"
    }
   ],
   "source": [
    "# Intersect\n",
    "two_m = {2, 4, 6, 8, 10}\n",
    "three_m = {3, 6, 9, 12}\n",
    "# two_m.intersection(three_m)\n",
    "two_m & three_m"
   ]
  },
  {
   "cell_type": "code",
   "execution_count": 23,
   "metadata": {},
   "outputs": [
    {
     "data": {
      "text/plain": [
       "{12}"
      ]
     },
     "execution_count": 23,
     "metadata": {},
     "output_type": "execute_result"
    }
   ],
   "source": [
    "# Union\n",
    "jp = {10,12,14,15,16}\n",
    "np = {12,9,13}\n",
    "jp & np"
   ]
  },
  {
   "cell_type": "code",
   "execution_count": 24,
   "metadata": {},
   "outputs": [
    {
     "data": {
      "text/plain": [
       "{1, 2, 3, 4, 5, 8, 13}"
      ]
     },
     "execution_count": 24,
     "metadata": {},
     "output_type": "execute_result"
    }
   ],
   "source": [
    "nums = {1, 2, 3, 4 ,5}\n",
    "fib = {1, 1, 2, 3, 5, 8, 13}\n",
    "nums | fib"
   ]
  },
  {
   "cell_type": "code",
   "execution_count": 3,
   "metadata": {},
   "outputs": [
    {
     "name": "stdout",
     "output_type": "stream",
     "text": [
      "{59, 23}\n",
      "{0, 98, 3, 70, 38, 76, 45, 17, 19, 83, 86, 23, 56, 25, 59}\n"
     ]
    }
   ],
   "source": [
    "ph_set = set([23,56,86,0,25,56,70,23,17,59,86])\n",
    "hp_set = set([23,76,98,45,38,19,3,59,83])\n",
    "print(ph_set & hp_set)\n",
    "print(ph_set| hp_set)"
   ]
  },
  {
   "cell_type": "code",
   "execution_count": 2,
   "metadata": {},
   "outputs": [],
   "source": [
    "import random"
   ]
  },
  {
   "cell_type": "code",
   "execution_count": 40,
   "metadata": {},
   "outputs": [
    {
     "data": {
      "text/plain": [
       "[7, 7, 6, 8, 1, 6, 2, 4, 3]"
      ]
     },
     "execution_count": 40,
     "metadata": {},
     "output_type": "execute_result"
    }
   ],
   "source": [
    "def create_rand_list(n: int) -> list:\n",
    "    jai= []\n",
    "    for i in range(n):\n",
    "        jai.append(random.randint(0,n))\n",
    "    return jai\n",
    "\n",
    "create_rand_list(9)    \n"
   ]
  },
  {
   "cell_type": "code",
   "execution_count": 41,
   "metadata": {},
   "outputs": [
    {
     "data": {
      "text/plain": [
       "{4: 1, 5: 1, 2: 2, 1: 1}"
      ]
     },
     "execution_count": 41,
     "metadata": {},
     "output_type": "execute_result"
    }
   ],
   "source": [
    "def create_rand_dict(n: int) -> dict:\n",
    "    res: dict = {}\n",
    "    for i in range(1, n + 1):\n",
    "        rand: int = random.randint(0, n)\n",
    "        if rand not in res:\n",
    "            res[rand] = 1\n",
    "        else:\n",
    "            res[rand] += 1\n",
    "    return res\n",
    "create_rand_dict(5)"
   ]
  },
  {
   "cell_type": "code",
   "execution_count": 42,
   "metadata": {},
   "outputs": [
    {
     "ename": "SyntaxError",
     "evalue": "incomplete input (4142426173.py, line 2)",
     "output_type": "error",
     "traceback": [
      "\u001b[1;36m  Input \u001b[1;32mIn [42]\u001b[1;36m\u001b[0m\n\u001b[1;33m    \u001b[0m\n\u001b[1;37m    ^\u001b[0m\n\u001b[1;31mSyntaxError\u001b[0m\u001b[1;31m:\u001b[0m incomplete input\n"
     ]
    }
   ],
   "source": [
    "def count_sqrs( data: list | dict) -> int:\n",
    "    "
   ]
  },
  {
   "cell_type": "code",
   "execution_count": 43,
   "metadata": {},
   "outputs": [
    {
     "data": {
      "text/plain": [
       "2"
      ]
     },
     "execution_count": 43,
     "metadata": {},
     "output_type": "execute_result"
    }
   ],
   "source": [
    "def count_sqrs(data: list|dict) -> int:\n",
    "    square_count = 0\n",
    "    for num in data:\n",
    "        if num**2 in data:\n",
    "           square_count += 1\n",
    "    return square_count \n",
    "count_sqrs([1, 2, 3, 4])        "
   ]
  },
  {
   "cell_type": "code",
   "execution_count": 56,
   "metadata": {},
   "outputs": [],
   "source": [
    "l = create_rand_list(30000)\n",
    "d = create_rand_dict(30000)\n"
   ]
  },
  {
   "cell_type": "code",
   "execution_count": 57,
   "metadata": {},
   "outputs": [
    {
     "data": {
      "text/plain": [
       "124"
      ]
     },
     "execution_count": 57,
     "metadata": {},
     "output_type": "execute_result"
    }
   ],
   "source": []
  },
  {
   "cell_type": "code",
   "execution_count": 55,
   "metadata": {},
   "outputs": [
    {
     "ename": "NameError",
     "evalue": "name 'count_sqrs' is not defined",
     "output_type": "error",
     "traceback": [
      "\u001b[1;31m---------------------------------------------------------------------------\u001b[0m",
      "\u001b[1;31mNameError\u001b[0m                                 Traceback (most recent call last)",
      "\u001b[1;32mc:\\Users\\nwama\\Desktop\\baby_feeding_project\\baby.ipynb Cell 20\u001b[0m in \u001b[0;36m<cell line: 1>\u001b[1;34m()\u001b[0m\n\u001b[1;32m----> <a href='vscode-notebook-cell:/c%3A/Users/nwama/Desktop/baby_feeding_project/baby.ipynb#X23sZmlsZQ%3D%3D?line=0'>1</a>\u001b[0m count_sqrs(d)\n\u001b[0;32m      <a href='vscode-notebook-cell:/c%3A/Users/nwama/Desktop/baby_feeding_project/baby.ipynb#X23sZmlsZQ%3D%3D?line=1'>2</a>\u001b[0m \u001b[39mimport\u001b[39;00m \u001b[39mrandom\u001b[39;00m\n",
      "\u001b[1;31mNameError\u001b[0m: name 'count_sqrs' is not defined"
     ]
    }
   ],
   "source": [
    "count_sqrs(d)\n",
    "import random"
   ]
  },
  {
   "cell_type": "code",
   "execution_count": 76,
   "metadata": {},
   "outputs": [
    {
     "data": {
      "text/plain": [
       "{1: 3, 2: 3, 4: 1, 3: 1, 8: 3, 9: 1, 5: 1, 23: 1}"
      ]
     },
     "execution_count": 76,
     "metadata": {},
     "output_type": "execute_result"
    }
   ],
   "source": [
    "def num_count(nums:list) -> dict:\n",
    "    paga = {}\n",
    "    for i in nums:\n",
    "        if i not in paga:\n",
    "            paga[i] = 1\n",
    "        else:\n",
    "            paga[i] += 1    \n",
    "    return paga \n",
    "\n",
    "num_count([1,2,1,4,3,1,8,2,2,8,9,5,23,8])           "
   ]
  },
  {
   "cell_type": "code",
   "execution_count": 58,
   "metadata": {},
   "outputs": [
    {
     "data": {
      "text/plain": [
       "'aNHDlV*yM'"
      ]
     },
     "execution_count": 58,
     "metadata": {},
     "output_type": "execute_result"
    }
   ],
   "source": [
    "import random\n",
    "def rand_password(n: int) ->str:\n",
    "    abc= 'abcdefghijADERTHJLPIUNBVCXZQMklmnopqrstuvwxyz%*#$'\n",
    "    x = ''\n",
    "    for i in range(n):\n",
    "        x += random.choice(abc)\n",
    "    return x   \n",
    "\n",
    "\n",
    "rand_password(9)"
   ]
  },
  {
   "cell_type": "code",
   "execution_count": 34,
   "metadata": {},
   "outputs": [
    {
     "name": "stdout",
     "output_type": "stream",
     "text": [
      "The average price is 446.0\n"
     ]
    },
    {
     "data": {
      "text/plain": [
       "{'cheap items': ['beans', 'rice', 'garri'],\n",
       " 'expensive items': ['wheat', 'bread']}"
      ]
     },
     "execution_count": 34,
     "metadata": {},
     "output_type": "execute_result"
    }
   ],
   "source": [
    "import numpy as np\n",
    "y=  [\n",
    "    {\"name\": \"beans\", \"price\": 150},\n",
    "    {\"name\": \"rice\", \"price\": 180},\n",
    "    {\"name\": \"garri\",\"price\": 100},\n",
    "    {\"name\": \"wheat\",\"price\": 800},\n",
    "    {\"name\": \"bread\",\"price\": 1000},\n",
    "    ]\n",
    "\n",
    "#def findAvg(nums: list[int]) -> float:\n",
    "\n",
    "#findAvg([2, 1, 3])\n",
    "def findAvg(prep):\n",
    "    z= np.mean(prep)\n",
    "    return z\n",
    "\n",
    "findAvg([2,1,3,45,98])\n",
    "\n",
    "def return_list(num: [dict]) -> dict:\n",
    "    goat= []\n",
    "    for dict in num:\n",
    "        goat.append(dict['price'])\n",
    "        x=findAvg(goat)\n",
    "    print('The average price is ' + str(x))\n",
    "    cheap = []\n",
    "    expensive = []\n",
    "    for dict in num:\n",
    "        if dict['price'] > x:\n",
    "            expensive.append(dict['name'])\n",
    "        else:\n",
    "            cheap.append(dict['name'])    \n",
    "\n",
    "    return {\n",
    "        \"cheap items\": cheap,\n",
    "        \"expensive items\": expensive\n",
    "    }\n",
    "\n",
    "    \n",
    "return_list(y)       "
   ]
  },
  {
   "cell_type": "code",
   "execution_count": 132,
   "metadata": {},
   "outputs": [
    {
     "name": "stdout",
     "output_type": "stream",
     "text": [
      "2.5\n"
     ]
    }
   ],
   "source": [
    "x  = [1, 2, 3, 4]\n",
    "total: int| float = 0\n",
    "# Loop through everything\n",
    "for num in x:\n",
    "    total += num\n",
    "print(total / len(x))    "
   ]
  },
  {
   "cell_type": "code",
   "execution_count": 2,
   "metadata": {},
   "outputs": [],
   "source": [
    "xs = [{'price': 200}, {'price': 740}]\n"
   ]
  },
  {
   "cell_type": "code",
   "execution_count": 6,
   "metadata": {},
   "outputs": [],
   "source": [
    "# Functional Programming\n",
    "x = 2\n",
    "\n",
    "z = [2, 1, [2, 1]]\n",
    "def addTwo(a, b):\n",
    "    return a + b\n",
    "\n",
    "\n",
    "z.append(addTwo)\n"
   ]
  },
  {
   "cell_type": "code",
   "execution_count": 9,
   "metadata": {},
   "outputs": [
    {
     "data": {
      "text/plain": [
       "6"
      ]
     },
     "execution_count": 9,
     "metadata": {},
     "output_type": "execute_result"
    }
   ],
   "source": [
    "z[3](2, 4)"
   ]
  },
  {
   "cell_type": "code",
   "execution_count": 14,
   "metadata": {},
   "outputs": [],
   "source": [
    "# Higher Order Functions\n",
    "def Caller(funct, x):\n",
    "    for i in range(x):\n",
    "        funct()\n",
    "\n",
    "def sayHi():\n",
    "    print(\"Hello, Ng\")\n",
    "p = sayHi"
   ]
  },
  {
   "cell_type": "code",
   "execution_count": 15,
   "metadata": {},
   "outputs": [
    {
     "name": "stdout",
     "output_type": "stream",
     "text": [
      "Hello, Ng\n",
      "Hello, Ng\n",
      "Hello, Ng\n",
      "Hello, Ng\n",
      "Hello, Ng\n",
      "Hello, Ng\n"
     ]
    }
   ],
   "source": [
    "Caller(p, 6)"
   ]
  },
  {
   "cell_type": "code",
   "execution_count": 16,
   "metadata": {},
   "outputs": [
    {
     "data": {
      "text/plain": [
       "9"
      ]
     },
     "execution_count": 16,
     "metadata": {},
     "output_type": "execute_result"
    }
   ],
   "source": [
    "# [1, 2, 3] => [1, 4, 9]\n",
    "def sqr(num : int | float)-> int | float:\n",
    "    return num ** 2\n",
    "\n",
    "sqr(3)"
   ]
  },
  {
   "cell_type": "code",
   "execution_count": 17,
   "metadata": {},
   "outputs": [
    {
     "data": {
      "text/plain": [
       "[1, 4, 9]"
      ]
     },
     "execution_count": 17,
     "metadata": {},
     "output_type": "execute_result"
    }
   ],
   "source": [
    "list(map(sqr, [1, 2, 3]))"
   ]
  },
  {
   "cell_type": "code",
   "execution_count": 37,
   "metadata": {},
   "outputs": [
    {
     "data": {
      "text/plain": [
       "[150, 180, 100, 800, 1000]"
      ]
     },
     "execution_count": 37,
     "metadata": {},
     "output_type": "execute_result"
    }
   ],
   "source": [
    "def return_price(pcv):\n",
    "    return pcv['price']\n",
    "#return_price(y)        \n",
    "\n",
    "list(map(return_price, y))       "
   ]
  },
  {
   "cell_type": "code",
   "execution_count": 48,
   "metadata": {},
   "outputs": [
    {
     "data": {
      "text/plain": [
       "'Peter obi for presidency!!!'"
      ]
     },
     "execution_count": 48,
     "metadata": {},
     "output_type": "execute_result"
    }
   ],
   "source": [
    "def con(x):\n",
    "    return x +'!!!'\n",
    "con('strap')\n",
    "\n",
    "def up(con, word):\n",
    "    p = word.capitalize()\n",
    "    return con(p)\n",
    "up(con, 'peter obi for presidency')    "
   ]
  },
  {
   "cell_type": "code",
   "execution_count": 41,
   "metadata": {},
   "outputs": [
    {
     "data": {
      "text/plain": [
       "['sdsdsd', 'bybyby', 'cdcdcd', 'dkdkdk']"
      ]
     },
     "execution_count": 41,
     "metadata": {},
     "output_type": "execute_result"
    }
   ],
   "source": [
    "def sha(y):\n",
    "    return y*3\n",
    "\n",
    "list(map(sha, ['sd','by','cd','dk']))   "
   ]
  },
  {
   "cell_type": "code",
   "execution_count": 70,
   "metadata": {},
   "outputs": [
    {
     "name": "stdout",
     "output_type": "stream",
     "text": [
      "w\n",
      "h\n",
      "a\n",
      "l\n",
      "e\n"
     ]
    }
   ],
   "source": [
    "def change(pet):\n",
    "    \n",
    "    for word in pet:\n",
    "        print(word) \n",
    "change('whale')        "
   ]
  },
  {
   "cell_type": "code",
   "execution_count": 71,
   "metadata": {},
   "outputs": [],
   "source": [
    "myData = list() "
   ]
  },
  {
   "cell_type": "code",
   "execution_count": 72,
   "metadata": {},
   "outputs": [],
   "source": [
    "import math"
   ]
  },
  {
   "cell_type": "code",
   "execution_count": 73,
   "metadata": {},
   "outputs": [
    {
     "data": {
      "text/plain": [
       "3.141592653589793"
      ]
     },
     "execution_count": 73,
     "metadata": {},
     "output_type": "execute_result"
    }
   ],
   "source": [
    "math.pi"
   ]
  },
  {
   "cell_type": "code",
   "execution_count": 107,
   "metadata": {},
   "outputs": [],
   "source": []
  },
  {
   "cell_type": "code",
   "execution_count": 109,
   "metadata": {},
   "outputs": [],
   "source": [
    "class BankStaff:\n",
    "    staff_ids = 1000000\n",
    "    def __init__(self, name ):\n",
    "        self.name = name\n",
    "        self.staff_id = BankStaff.staff_ids\n",
    "        BankStaff.staff_ids += 1\n",
    "chi = BankStaff(\"Chinenye\")\n",
    "class BankAcct:\n",
    "    def __init__(self,bank_name,acct_no, bal):\n",
    "        self.name = bank_name\n",
    "        self.acct = acct_no\n",
    "        self.__bal = bal\n",
    "        self.__acct_manager: BankStaff = chi"
   ]
  },
  {
   "cell_type": "code",
   "execution_count": 155,
   "metadata": {},
   "outputs": [
    {
     "name": "stdout",
     "output_type": "stream",
     "text": [
      "Dear Ivan, Welcome back.\n",
      "your account balance is 700\n"
     ]
    }
   ],
   "source": [
    "class Bankaccount:\n",
    "    def __init__(self, name, bank_num, current_bal):\n",
    "        self.name= name\n",
    "        self.bank_num = bank_num\n",
    "        self.bal= current_bal\n",
    "        self.__password = '#abCd'\n",
    "        print(f'Dear {self.name}, Welcome back.') \n",
    "        password = input('password') \n",
    "        if password == self.__password:\n",
    "            print(f'your account balance is {self.bal}')\n",
    "        else:\n",
    "            print(f'wrong password, check your password and try again')\n",
    "\n",
    "obuso= Bankaccount('Ivan', 30542394, 700)            "
   ]
  },
  {
   "cell_type": "code",
   "execution_count": null,
   "metadata": {},
   "outputs": [],
   "source": []
  },
  {
   "cell_type": "code",
   "execution_count": 93,
   "metadata": {},
   "outputs": [
    {
     "name": "stdout",
     "output_type": "stream",
     "text": [
      "Toyota Corolla, color Ash is available\n"
     ]
    }
   ],
   "source": [
    "class Car:\n",
    "    def __init__(self, brand, colors):\n",
    "       self.model = brand\n",
    "       self.colors = colors   \n",
    "       print(f'{self.model}, color {self.colors} is available')\n",
    "model = Car('Toyota Corolla', 'Ash')       "
   ]
  },
  {
   "cell_type": "code",
   "execution_count": 112,
   "metadata": {},
   "outputs": [
    {
     "data": {
      "text/plain": [
       "1000002"
      ]
     },
     "execution_count": 112,
     "metadata": {},
     "output_type": "execute_result"
    }
   ],
   "source": [
    "amaka = BankStaff('Amaka')\n",
    "amaka.staff_id"
   ]
  },
  {
   "cell_type": "code",
   "execution_count": 117,
   "metadata": {},
   "outputs": [],
   "source": [
    "class Human:\n",
    "    category = \"mammals\"\n",
    "    def __init__(self, user_name, age):\n",
    "        self.name = user_name\n",
    "        self.age = age\n",
    "        self.specie = \"Homo Sapien\"\n",
    "        self.__kidney = \"Hidden in body\"\n",
    "        print(f\"Human with name => {self.__kidney} has been created\")\n",
    "    \n",
    "    def talk(self, sent):\n",
    "        print(f\"{self.name} said {sent}\")\n",
    "\n",
    "    def walk(self, point, distance):\n",
    "        print(f'{self.name} walked a distance of {distance} km to {point} at {self.age}')    \n",
    "    def celebrate_bday(self):\n",
    "        self.age += 1\n",
    "        print(f'Happy birthday {self.name} you are now {self.age} years old')"
   ]
  },
  {
   "cell_type": "code",
   "execution_count": 118,
   "metadata": {},
   "outputs": [
    {
     "name": "stdout",
     "output_type": "stream",
     "text": [
      "Human with name => Hidden in body has been created\n",
      "Ngozi said Classes, funny\n",
      "Ngozi walked a distance of 50 km to alaba at 20\n",
      "Happy birthday Ngozi you are now 21 years old\n"
     ]
    }
   ],
   "source": [
    "ng = Human(\"Ngozi\", 20)\n",
    "ng.talk(\"Classes, funny\")\n",
    "ng.walk('alaba', 50)\n",
    "ng.celebrate_bday()"
   ]
  },
  {
   "cell_type": "code",
   "execution_count": 128,
   "metadata": {},
   "outputs": [],
   "source": [
    "class African(Human):\n",
    "    def hair(self):\n",
    "        print(\"I am African and have kinky hair\")\n",
    "    def tribe(self):\n",
    "        print('I am from Niger-delta')"
   ]
  },
  {
   "cell_type": "code",
   "execution_count": 130,
   "metadata": {},
   "outputs": [
    {
     "name": "stdout",
     "output_type": "stream",
     "text": [
      "Human with name => Hidden in body has been created\n",
      "I am African and have kinky hair\n",
      "I am from Niger-delta\n"
     ]
    }
   ],
   "source": [
    "amaka = African(\"Amaka\", 18)\n",
    "amaka.hair()\n",
    "amaka.tribe()"
   ]
  },
  {
   "cell_type": "code",
   "execution_count": 122,
   "metadata": {},
   "outputs": [
    {
     "name": "stdout",
     "output_type": "stream",
     "text": [
      "Amaka walked a distance of 150 km to Benin at 18\n"
     ]
    }
   ],
   "source": [
    "amaka.walk('Benin', 150)"
   ]
  },
  {
   "cell_type": "code",
   "execution_count": 135,
   "metadata": {},
   "outputs": [],
   "source": [
    "class MyList(list):\n",
    "    def pop_max(self):\n",
    "        # Find max number\n",
    "        maximum = max(self)\n",
    "        max_idx = self.index(maximum)\n",
    "        return self.pop(max_idx)\n",
    "\n",
    "    def pop_min(self):\n",
    "        #find min num\n",
    "        minimum = min(self)\n",
    "        min_idx = self.index(minimum)\n",
    "        return self.pop(min_idx)    \n"
   ]
  },
  {
   "cell_type": "code",
   "execution_count": 136,
   "metadata": {},
   "outputs": [
    {
     "data": {
      "text/plain": [
       "1"
      ]
     },
     "execution_count": 136,
     "metadata": {},
     "output_type": "execute_result"
    }
   ],
   "source": [
    "nums = MyList([1, 3, 2, 7, 4, 5])\n",
    "nums.pop_max()\n",
    "nums.pop_min()"
   ]
  },
  {
   "cell_type": "code",
   "execution_count": null,
   "metadata": {},
   "outputs": [],
   "source": []
  }
 ],
 "metadata": {
  "kernelspec": {
   "display_name": "Python 3.10.6 64-bit",
   "language": "python",
   "name": "python3"
  },
  "language_info": {
   "codemirror_mode": {
    "name": "ipython",
    "version": 3
   },
   "file_extension": ".py",
   "mimetype": "text/x-python",
   "name": "python",
   "nbconvert_exporter": "python",
   "pygments_lexer": "ipython3",
   "version": "3.10.6"
  },
  "orig_nbformat": 4,
  "vscode": {
   "interpreter": {
    "hash": "bbaf209bd9419bdda1dcdb468abd47b4893e47e88907bc33f4649b9848fb6ef1"
   }
  }
 },
 "nbformat": 4,
 "nbformat_minor": 2
}
