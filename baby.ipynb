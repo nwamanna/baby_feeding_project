{
 "cells": [
  {
   "cell_type": "code",
   "execution_count": 5,
   "metadata": {},
   "outputs": [
    {
     "data": {
      "text/plain": [
       "415"
      ]
     },
     "execution_count": 5,
     "metadata": {},
     "output_type": "execute_result"
    }
   ],
   "source": [
    "def add_int(a,b):\n",
    "    i = a+b\n",
    "    return i\n",
    "add_int(345,70)"
   ]
  },
  {
   "cell_type": "code",
   "execution_count": null,
   "metadata": {},
   "outputs": [],
   "source": []
  },
  {
   "cell_type": "markdown",
   "metadata": {},
   "source": [
    "def change_case(string):\n",
    "    x = string.upper()\n",
    "    return x\n",
    "\n",
    "print(change_case(amazing))"
   ]
  },
  {
   "cell_type": "markdown",
   "metadata": {},
   "source": []
  },
  {
   "cell_type": "code",
   "execution_count": 8,
   "metadata": {},
   "outputs": [],
   "source": [
    "def intersect(arrA: list, arrB: list) -> list:\n",
    "    List = []\n",
    "    for i in arrA:\n",
    "        if i in arrB:\n",
    "            List += i\n",
    "    print(List)"
   ]
  },
  {
   "cell_type": "code",
   "execution_count": 9,
   "metadata": {},
   "outputs": [
    {
     "name": "stdout",
     "output_type": "stream",
     "text": [
      "['b', 'c']\n"
     ]
    }
   ],
   "source": [
    "intersect(['a', 'b', 'c'], ['d', 'b', 'r', 'c']) # -> ['b', c]"
   ]
  },
  {
   "cell_type": "code",
   "execution_count": null,
   "metadata": {},
   "outputs": [],
   "source": [
    "remove_duplicates([1, 2, 3, 1, 7, 1]) # [1, 2, 3, 7]\n"
   ]
  },
  {
   "cell_type": "code",
   "execution_count": 18,
   "metadata": {},
   "outputs": [
    {
     "name": "stdout",
     "output_type": "stream",
     "text": [
      "2\n",
      "3\n",
      "4\n",
      "5\n",
      "767\n"
     ]
    }
   ],
   "source": [
    "myset = set([1, 1, 2, 3, 4, 5])\n",
    "# CRUD with set\n",
    "myset.add(6)\n",
    "myset.add(767)\n",
    "myset.discard(1)\n",
    "myset.discard(6)\n",
    "\n",
    "# check for membership, traverse set\n",
    "3 in myset\n",
    "for i in myset:\n",
    "    print(i)\n"
   ]
  },
  {
   "cell_type": "code",
   "execution_count": 21,
   "metadata": {},
   "outputs": [
    {
     "data": {
      "text/plain": [
       "{6}"
      ]
     },
     "execution_count": 21,
     "metadata": {},
     "output_type": "execute_result"
    }
   ],
   "source": [
    "# Intersect\n",
    "two_m = {2, 4, 6, 8, 10}\n",
    "three_m = {3, 6, 9, 12}\n",
    "# two_m.intersection(three_m)\n",
    "two_m & three_m"
   ]
  },
  {
   "cell_type": "code",
   "execution_count": 23,
   "metadata": {},
   "outputs": [
    {
     "data": {
      "text/plain": [
       "{12}"
      ]
     },
     "execution_count": 23,
     "metadata": {},
     "output_type": "execute_result"
    }
   ],
   "source": [
    "# Union\n",
    "jp = {10,12,14,15,16}\n",
    "np = {12,9,13}\n",
    "jp & np"
   ]
  },
  {
   "cell_type": "code",
   "execution_count": 24,
   "metadata": {},
   "outputs": [
    {
     "data": {
      "text/plain": [
       "{1, 2, 3, 4, 5, 8, 13}"
      ]
     },
     "execution_count": 24,
     "metadata": {},
     "output_type": "execute_result"
    }
   ],
   "source": [
    "nums = {1, 2, 3, 4 ,5}\n",
    "fib = {1, 1, 2, 3, 5, 8, 13}\n",
    "nums | fib"
   ]
  }
 ],
 "metadata": {
  "kernelspec": {
   "display_name": "Python 3.10.6 64-bit",
   "language": "python",
   "name": "python3"
  },
  "language_info": {
   "codemirror_mode": {
    "name": "ipython",
    "version": 3
   },
   "file_extension": ".py",
   "mimetype": "text/x-python",
   "name": "python",
   "nbconvert_exporter": "python",
   "pygments_lexer": "ipython3",
   "version": "3.10.6"
  },
  "orig_nbformat": 4,
  "vscode": {
   "interpreter": {
    "hash": "bbaf209bd9419bdda1dcdb468abd47b4893e47e88907bc33f4649b9848fb6ef1"
   }
  }
 },
 "nbformat": 4,
 "nbformat_minor": 2
}
